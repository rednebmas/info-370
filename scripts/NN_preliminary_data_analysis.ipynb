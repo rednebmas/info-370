{
 "cells": [
  {
   "cell_type": "markdown",
   "metadata": {},
   "source": [
    "### Format reviews.json as csv"
   ]
  },
  {
   "cell_type": "code",
   "execution_count": 1,
   "metadata": {
    "collapsed": true
   },
   "outputs": [],
   "source": [
    "import json\n",
    "import csv"
   ]
  },
  {
   "cell_type": "code",
   "execution_count": 2,
   "metadata": {
    "collapsed": true
   },
   "outputs": [],
   "source": [
    "with open('/Users/Nick/info-370/data/reviews.json') as data_file:\n",
    "    data = json.load(data_file)"
   ]
  },
  {
   "cell_type": "code",
   "execution_count": 11,
   "metadata": {
    "collapsed": true
   },
   "outputs": [],
   "source": [
    "new_data = [['business', 'author', 'date', 'review location', 'stars']]\n",
    "reviews = []\n",
    "for d in data:\n",
    "    curr_key = list(d.keys())[0]\n",
    "    new_key = curr_key.split('?')[0].split('/')[-1]\n",
    "    for r in d[curr_key]:\n",
    "        reviews.append(r)\n",
    "        new_data.append([new_key, r['author'], r['date'].split()[0], r['location'], r['stars']])"
   ]
  },
  {
   "cell_type": "code",
   "execution_count": 12,
   "metadata": {
    "collapsed": false
   },
   "outputs": [],
   "source": [
    "with open(\"reviews.csv\", \"w\") as f:\n",
    "    writer = csv.writer(f)\n",
    "    writer.writerows(new_data)"
   ]
  },
  {
   "cell_type": "markdown",
   "metadata": {
    "collapsed": true
   },
   "source": [
    "### Takes the merged csv created with R script, and breaks out/duplicates every row by each of its categories"
   ]
  },
  {
   "cell_type": "code",
   "execution_count": 28,
   "metadata": {
    "collapsed": false
   },
   "outputs": [],
   "source": [
    "with open(\"breakout_by_category.csv\", \"w\") as f:\n",
    "    writer = csv.writer(f)\n",
    "    with open('/Users/Nick/merged_table.csv') as ft:\n",
    "        headers = ft.readline()\n",
    "        writer.writerow(headers.split(','))\n",
    "        csv_reader = csv.reader(ft, delimiter=',')\n",
    "        for line_list in csv_reader:\n",
    "            skills_list = line_list[2].split(',')\n",
    "            for skill in skills_list:\n",
    "                temp = line_list\n",
    "                temp[2] = skill.strip()\n",
    "                writer.writerow(temp[1:])"
   ]
  }
 ],
 "metadata": {
  "kernelspec": {
   "display_name": "Python [default]",
   "language": "python",
   "name": "python3"
  },
  "language_info": {
   "codemirror_mode": {
    "name": "ipython",
    "version": 3
   },
   "file_extension": ".py",
   "mimetype": "text/x-python",
   "name": "python",
   "nbconvert_exporter": "python",
   "pygments_lexer": "ipython3",
   "version": "3.5.2"
  }
 },
 "nbformat": 4,
 "nbformat_minor": 1
}
